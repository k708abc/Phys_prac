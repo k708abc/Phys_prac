{
 "cells": [
  {
   "cell_type": "markdown",
   "metadata": {},
   "source": [
    "# Newton equation\n",
    "(From pythonによる計算物理)\n",
    "\n",
    "We will consider throwing a ball with the angle of $\\theta$ with considering the resistance by air. The equation of motion of the ball is\n",
    "$$\n",
    "m\\frac{d^2x(t)}{dt^2} = -b\\frac{dx(t)}{dt}\\\\\n",
    "m\\frac{d^2y(t)}{dt^2} = -b\\frac{dy(t)}{dt} - mg\n",
    "$$\n",
    "Here, we defined\n",
    "$$\n",
    "v_x(t) = \\frac{dx}{dt}\\\\\n",
    "v_y(t) = \\frac{dy}{dt}\n",
    "$$\n",
    "If we introduce a vector $X(t) = (x(t), v_x(t), y(t), v_y(t))$, the equations are summarized as follows:\n",
    "$$\n",
    "\\frac{dX(t)}{dt} = \n",
    "\t\\begin{pmatrix}\n",
    "   0 & 1 & 0 & 0 \\\\\n",
    "   0 & -b/m & 0 & 0\\\\\n",
    "   0 & 0 & 0 & 1\\\\\n",
    "   0 & 0 & 0 & -b/m \n",
    "   \\end{pmatrix}\n",
    "X(t) +\n",
    "\t\\begin{pmatrix}\n",
    "   0 \\\\\n",
    "   0\\\\\n",
    "   0\\\\\n",
    "   -g \n",
    "   \\end{pmatrix}\n",
    "$$\n",
    "We will try solving this equation."
   ]
  },
  {
   "cell_type": "code",
   "execution_count": 1,
   "metadata": {},
   "outputs": [],
   "source": [
    "%matplotlib inline\n",
    "import numpy as np\n",
    "from scipy.integrate import solve_ivp\n",
    "import matplotlib.pyplot as plt\n"
   ]
  },
  {
   "cell_type": "code",
   "execution_count": 7,
   "metadata": {},
   "outputs": [],
   "source": [
    "def f_newton(t, X, m, g, b):\n",
    "    # X = [x, vx, y, vy]\n",
    "    dXdt = np.array([X[1], -(b/m)*X[1], X[3], -(b/m)*X[3] -g])\n",
    "    return dXdt\n",
    "\n",
    "def solve_newton(params, X0, t_range, n_t):\n",
    "    m, g, b = params\n",
    "    sol = solve_ivp(f_newton, t_range, X0, args = (m, g, b), dense_output=True)\n",
    "    t_start, t_end = t_range\n",
    "    t = np.linspace(t_start, t_end, n_t)\n",
    "    Xt = sol.sol(t)\n",
    "    assert Xt.shape == (4, n_t)\n",
    "    return Xt[0, :], Xt[1, :], Xt[2, :], Xt[3, :]"
   ]
  },
  {
   "cell_type": "code",
   "execution_count": 12,
   "metadata": {},
   "outputs": [],
   "source": [
    "def plot(xt, yt):\n",
    "    fig, ax = plt.subplots(figsize=(6, 3.5))\n",
    "    ax.plot(xt, yt, marker = \".\")\n",
    "    ax.set_xlim(left = 0)\n",
    "    ax.set_ylim(bottom = 0)\n",
    "    ax.set_xlabel(r'$x$')\n",
    "    ax.set_ylabel(r'$y$')\n",
    "    ax.set_aspect('equal')"
   ]
  },
  {
   "cell_type": "code",
   "execution_count": 13,
   "metadata": {},
   "outputs": [
    {
     "data": {
      "image/png": "[encoded data removed]",
      "text/plain": [
       "<Figure size 600x350 with 1 Axes>"
      ]
     },
     "metadata": {},
     "output_type": "display_data"
    }
   ],
   "source": [
    "g = 9.8\n",
    "m = 0.1\n",
    "b = 0.1\n",
    "\n",
    "t_start= 0\n",
    "t_end = 5.0\n",
    "n_t = 101\n",
    "\n",
    "v0 = 100/3.6\n",
    "theta = 45*(np.pi/180)\n",
    "\n",
    "X0 = [0, v0*np.cos(theta), 0, v0*np.sin(theta)]\n",
    "xt, _, yt, _ = solve_newton(params = (m, g, b), X0 = X0, t_range = (t_start, t_end), n_t = n_t)\n",
    "plot(xt, yt) \n"
   ]
  },
  {
   "cell_type": "code",
   "execution_count": null,
   "metadata": {},
   "outputs": [],
   "source": []
  }
 ],
 "metadata": {
  "kernelspec": {
   "display_name": "env",
   "language": "python",
   "name": "python3"
  },
  "language_info": {
   "codemirror_mode": {
    "name": "ipython",
    "version": 3
   },
   "file_extension": ".py",
   "mimetype": "text/x-python",
   "name": "python",
   "nbconvert_exporter": "python",
   "pygments_lexer": "ipython3",
   "version": "3.12.4"
  }
 },
 "nbformat": 4,
 "nbformat_minor": 2
}
